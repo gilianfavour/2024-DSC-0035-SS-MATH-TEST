{
 "cells": [
  {
   "cell_type": "code",
   "execution_count": null,
   "id": "8df68889-8eff-4762-9845-adf043c03e7a",
   "metadata": {},
   "outputs": [],
   "source": [
    "# importing libraries\n",
    "import numpy as np\n",
    "import seaborn as sns\n",
    "import matplotlib.pyplot as plt"
   ]
  },
  {
   "cell_type": "code",
   "execution_count": 2,
   "id": "c274e513-9908-49a6-8cba-ffc721dc5884",
   "metadata": {},
   "outputs": [],
   "source": [
    "from numpy import random"
   ]
  },
  {
   "cell_type": "code",
   "execution_count": 8,
   "id": "a2e63db2-af42-4ac5-81a8-bf1a5673e551",
   "metadata": {},
   "outputs": [
    {
     "data": {
      "text/plain": [
       "array([ 5,  7,  6,  2,  8,  8,  7,  5,  7,  7,  7, 10,  4,  5,  2,  6,  4,\n",
       "        3,  4,  6,  5,  2,  4,  6,  6,  8,  4,  2,  4,  7,  6,  6,  4,  4,\n",
       "        7,  3,  7,  6,  1,  3,  3,  6,  7,  6,  6,  6,  3,  6,  4,  6,  5,\n",
       "        5,  3,  4,  8,  3,  5,  4,  6,  2,  3,  5,  5,  5,  4,  2,  3,  2,\n",
       "        4,  4,  1,  5,  4,  3,  6,  5,  4,  5,  3, 10,  6,  3,  3, 11,  9,\n",
       "        9,  8,  5,  6,  3,  7,  4,  4,  5,  6,  3,  5, 11,  4,  4,  4,  3,\n",
       "        2,  3,  5,  3,  4,  7,  3,  3,  6,  2,  4,  8,  6,  0,  7,  3,  4,\n",
       "        8,  4,  4,  8,  4,  3,  3,  4,  3,  7,  3,  6,  2,  7,  5,  4,  6,\n",
       "        4,  6,  3,  4,  3,  1,  5,  3,  5,  4,  4,  7,  7,  8,  4,  6,  4,\n",
       "        5,  7,  5,  5,  4,  3,  5,  3,  4,  3,  4,  5,  2,  5,  6,  2,  3,\n",
       "        6,  4, 10,  9,  5,  8,  8,  4,  7,  8,  5, 10,  3,  5,  4,  4,  6,\n",
       "       10,  3,  5,  4,  6,  5,  5,  6,  6,  1,  9,  4,  4,  7,  4,  2,  5,\n",
       "        3,  6,  2,  5,  6,  6,  4,  9,  5,  8,  7,  7,  5,  4,  6,  6,  4,\n",
       "       11,  1,  4,  1,  3,  2, 11,  6,  9,  5,  5,  5,  6,  5,  5,  4,  5,\n",
       "        8,  7,  5,  5,  8,  3,  4,  6,  4,  3,  2,  5,  2,  9,  3,  3,  7,\n",
       "        5,  6,  8,  2,  3,  2,  5,  8,  4,  3,  3,  1,  4,  5,  3,  5,  3,\n",
       "        4,  5,  8,  7,  7,  7,  4,  4,  8,  4,  5,  6,  7,  3,  6,  2, 10,\n",
       "        7,  5,  3,  6,  4,  2,  7,  7,  4,  3,  2,  8,  6,  4,  3,  5,  9,\n",
       "        6,  3,  4,  6, 11,  4,  4,  2,  2,  7,  5,  4,  3,  5,  7,  5,  4,\n",
       "        6,  2,  1,  5,  2,  6,  3,  5,  4,  2,  3,  7,  4,  7,  4,  4,  7,\n",
       "        5,  3,  3,  8,  4,  6,  8,  5,  6,  5, 10,  7,  8,  0,  5,  4,  4,\n",
       "        6,  6,  4,  6,  4,  9,  2,  5,  1,  1,  6,  4,  4,  2,  3,  7,  4,\n",
       "        8,  6,  3,  9,  3,  2,  7,  3,  6,  5,  3,  5,  8,  5,  4,  5,  8,\n",
       "        5,  9,  3,  5,  7,  7,  5,  5,  7,  5,  4,  3,  3,  3,  7, 10,  3,\n",
       "        8,  4,  8,  4,  6,  5,  4,  7,  2,  6,  8,  4,  1,  6,  8,  1,  3,\n",
       "        6,  5,  3,  6,  6,  5,  1,  6,  6,  9,  3,  8,  5,  2, 11,  7,  6,\n",
       "        4,  5,  4,  1,  7,  5,  6,  4,  4,  1,  5,  6,  4,  3,  5,  9,  5,\n",
       "        3,  3,  6,  4,  6,  3,  7,  6,  5,  4,  4,  3,  4,  4,  2,  3,  7,\n",
       "        6,  3,  4,  5,  8,  1,  4,  5,  5,  3,  6,  4,  7,  4,  4,  4,  1,\n",
       "        5,  1,  6,  4,  7,  6,  2,  6,  3,  4,  6,  7,  7,  7,  3,  8,  3,\n",
       "        6,  6,  4,  6,  2,  2,  4,  5,  7,  4, 10,  7,  1,  3,  5,  9,  3,\n",
       "        9,  5,  2,  4,  4,  8,  4,  5,  5,  5,  7,  4,  8, 10,  2,  6,  5,\n",
       "        7,  9,  2,  3,  9,  3,  7,  4,  7,  7,  3,  5,  7,  4,  7,  4,  6,\n",
       "        7,  5,  4,  3,  5,  3, 11,  1,  3,  5,  3,  4,  4,  4,  5,  4,  5,\n",
       "        4,  1,  6,  4,  6,  5,  2,  5,  3,  6,  4,  2,  6,  7,  7,  4,  3,\n",
       "        6,  6,  7,  5,  5,  5,  5,  4,  3,  6,  4,  2,  6,  2,  6,  5,  5,\n",
       "        3,  4,  2,  7,  4,  6,  6,  8,  5,  5,  6,  4,  4,  5,  4,  2,  9,\n",
       "        8,  3,  4,  5,  6,  6,  3,  5,  4,  5,  5,  5,  7,  7,  8,  6,  4,\n",
       "        2,  4,  4,  2,  6,  2,  6,  7,  6,  2, 11,  3,  8,  6,  6,  4,  7,\n",
       "        4,  2,  2,  5,  8,  8,  4, 10,  2,  2,  2,  1,  3,  8,  8, 10,  6,\n",
       "        4,  8,  2,  4,  4,  4,  7,  3,  8,  3,  6,  3,  1,  5,  8,  4,  8,\n",
       "        4, 10,  7,  5,  2,  2,  2,  5,  1,  4,  1,  7,  5,  7,  5,  2,  8,\n",
       "        4,  6,  6,  7,  6, 10,  4,  4,  5,  5,  6,  3,  4,  8,  4,  5,  9,\n",
       "       11,  6,  3,  3,  1,  3,  4,  4,  7,  5,  4,  6,  5,  7,  7,  4,  7,\n",
       "        2,  2,  5,  4,  2,  5,  6, 11,  7,  6,  3,  7,  1,  6,  8,  5,  4,\n",
       "        2,  1,  6,  4,  6,  6,  4,  3,  3,  5,  5,  6,  9,  6,  3,  3, 10,\n",
       "        7,  4,  4,  4,  4,  7,  2,  4,  6,  3,  3,  3,  8,  6,  3,  1,  8,\n",
       "        7,  8,  5,  6,  6,  4,  3,  6,  7,  8,  4,  4,  5,  9,  5,  7,  5,\n",
       "        5,  4,  1,  6,  6,  5,  6,  4,  6,  4,  4,  5,  2,  4,  6,  5,  3,\n",
       "        4,  5,  4,  6,  5,  6,  3,  6,  4,  6,  6,  6,  4,  1,  7,  6,  1,\n",
       "        7,  7, 10,  4,  8,  3,  8,  4,  3,  6,  7,  9,  6,  3,  5,  4,  5,\n",
       "        5,  5,  6,  5,  7,  4,  4,  5,  4,  3,  5,  3,  7,  6,  5,  6,  2,\n",
       "        3,  2,  3,  3,  5,  7,  4,  7,  5,  4,  5,  3,  6,  4,  5,  6,  2,\n",
       "        5,  1,  3,  8,  6,  4,  4,  6,  3, 12,  3,  7,  5,  2,  6,  6,  6,\n",
       "        7,  8,  6,  0,  6,  7,  7,  6,  2,  2,  8,  4,  3, 11,  4,  2,  5,\n",
       "        4,  4,  3,  1,  7,  9,  4,  6,  4,  5,  6,  4,  5,  6,  7,  6,  7,\n",
       "        3,  3,  6,  3,  6,  8,  6, 11,  3,  5,  7,  3, 10,  5,  6,  4,  4,\n",
       "        5,  6,  6,  3,  2,  7,  5,  4,  7,  4,  3,  9,  4, 10,  8,  2,  6,\n",
       "        4,  7,  4,  6,  1,  8,  5, 11,  8,  5,  4,  4,  2,  5],\n",
       "      dtype=int32)"
      ]
     },
     "execution_count": 8,
     "metadata": {},
     "output_type": "execute_result"
    }
   ],
   "source": [
    "customer_arrival_data = random.poisson(lam= 5,size =1000)\n",
    "customer_arrival_data"
   ]
  },
  {
   "cell_type": "code",
   "execution_count": 10,
   "id": "2da98558-20dd-461e-9751-3d7f51a88d07",
   "metadata": {},
   "outputs": [
    {
     "data": {
      "text/plain": [
       "np.float64(4.978)"
      ]
     },
     "execution_count": 10,
     "metadata": {},
     "output_type": "execute_result"
    }
   ],
   "source": [
    "mean_customer_arrival_data= customer_arrival_data.mean()\n",
    "mean_customer_arrival_data"
   ]
  },
  {
   "cell_type": "code",
   "execution_count": 12,
   "id": "649241ef-d0f9-4f96-a26f-8c5116d6baea",
   "metadata": {},
   "outputs": [
    {
     "data": {
      "text/plain": [
       "np.float64(4.553515999999999)"
      ]
     },
     "execution_count": 12,
     "metadata": {},
     "output_type": "execute_result"
    }
   ],
   "source": [
    "variance_customer_arrival_data = customer_arrival_data.var()\n",
    "variance_customer_arrival_data"
   ]
  },
  {
   "cell_type": "code",
   "execution_count": 15,
   "id": "a6b2e455-4b04-47d3-88a0-c3c318034711",
   "metadata": {},
   "outputs": [
    {
     "data": {
      "image/png": "[encoded data removed]",
      "text/plain": [
       "<Figure size 640x480 with 1 Axes>"
      ]
     },
     "metadata": {},
     "output_type": "display_data"
    }
   ],
   "source": [
    "customer_arrival_data = random.poisson(lam=5, size= 1000)\n",
    "sns.histplot(customer_arrival_data,  kde= False, color='pink')\n",
    "plt.title('CUSTOMER ARRIVAL DETAILS')\n",
    "plt.xlabel('Arrivals')\n",
    "plt.ylabel('Frequency')\n",
    "plt.show()"
   ]
  },
  {
   "cell_type": "code",
   "execution_count": null,
   "id": "a3294223-1df3-4cca-aedf-bd5f7b92653c",
   "metadata": {},
   "outputs": [],
   "source": []
  }
 ],
 "metadata": {
  "kernelspec": {
   "display_name": "Python 3 (ipykernel)",
   "language": "python",
   "name": "python3"
  },
  "language_info": {
   "codemirror_mode": {
    "name": "ipython",
    "version": 3
   },
   "file_extension": ".py",
   "mimetype": "text/x-python",
   "name": "python",
   "nbconvert_exporter": "python",
   "pygments_lexer": "ipython3",
   "version": "3.13.0"
  }
 },
 "nbformat": 4,
 "nbformat_minor": 5
}
