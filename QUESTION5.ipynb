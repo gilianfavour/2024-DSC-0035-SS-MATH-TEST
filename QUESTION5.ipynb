{
 "cells": [
  {
   "cell_type": "markdown",
   "id": "2fac20c7-54e5-46fc-9a0c-f7bfc5b7194d",
   "metadata": {},
   "source": [
    "# 2024/DSC/0035/SS\n",
    "MATHEMATICAL COMPUTING EXAM\n",
    "SEMESTER 1"
   ]
  },
  {
   "cell_type": "markdown",
   "id": "a7a3640a-ed0f-4d9f-9067-37d52596a4e1",
   "metadata": {},
   "source": [
    "# QUESTION 5"
   ]
  },
  {
   "cell_type": "code",
   "execution_count": 38,
   "id": "17e66483-a779-4459-9b2b-1471424d29e3",
   "metadata": {},
   "outputs": [],
   "source": [
    "import numpy as np #importing the numpy library"
   ]
  },
  {
   "cell_type": "markdown",
   "id": "66bd293a-a755-4dcd-aa2c-534936c85726",
   "metadata": {},
   "source": [
    "## matrix"
   ]
  },
  {
   "cell_type": "code",
   "execution_count": 39,
   "id": "442a9529-7f4e-47a3-8842-2a02113c6894",
   "metadata": {},
   "outputs": [
    {
     "name": "stdout",
     "output_type": "stream",
     "text": [
      "[[1.  0.2 0.5]\n",
      " [0.2 1.  0.8]\n",
      " [0.5 0.8 1. ]]\n"
     ]
    }
   ],
   "source": [
    "matrix_x = np.array([[1,0.2,0.5],[0.2,1,0.8],[0.5,0.8,1]])\n",
    "print(matrix_x) # constructing the matrix"
   ]
  },
  {
   "cell_type": "markdown",
   "id": "0d1a7a87-0a19-4281-a086-6e4e013ed51f",
   "metadata": {},
   "source": [
    "## i) transpose"
   ]
  },
  {
   "cell_type": "code",
   "execution_count": 40,
   "id": "1510e067-2517-4d51-b5d4-3b34e655e9d6",
   "metadata": {},
   "outputs": [
    {
     "name": "stdout",
     "output_type": "stream",
     "text": [
      "[[1.  0.2 0.5]\n",
      " [0.2 1.  0.8]\n",
      " [0.5 0.8 1. ]]\n"
     ]
    }
   ],
   "source": [
    "matrix_xT = matrix_x.T\n",
    "print(matrix_xT) # finding the transpose of the matrix x"
   ]
  },
  {
   "cell_type": "markdown",
   "id": "bc65a0ec-13f7-43e2-a54b-550fbb53e7a2",
   "metadata": {},
   "source": [
    "# ii) determinant"
   ]
  },
  {
   "cell_type": "code",
   "execution_count": 42,
   "id": "bb1a3fd4-1696-439c-b25e-7a4600c57dc6",
   "metadata": {},
   "outputs": [
    {
     "name": "stdout",
     "output_type": "stream",
     "text": [
      "0.2299999999999999\n"
     ]
    }
   ],
   "source": [
    "matrix_x_det = np.linalg.det(matrix_x)\n",
    "print(matrix_x_det) # getting the determinant of the matix x"
   ]
  },
  {
   "cell_type": "markdown",
   "id": "a383d280-e344-4125-8490-befb08d053fc",
   "metadata": {},
   "source": [
    "## iii) decomposing the matrix"
   ]
  },
  {
   "cell_type": "code",
   "execution_count": 44,
   "id": "06021f09-d4e6-445d-87a7-a44a2351e56c",
   "metadata": {},
   "outputs": [],
   "source": [
    "from scipy.linalg import lu # importing lower and upper inorder te decompose the matrix"
   ]
  },
  {
   "cell_type": "code",
   "execution_count": 34,
   "id": "8425cb1d-575f-4dc4-9a0f-d7fd226c2a2c",
   "metadata": {},
   "outputs": [
    {
     "name": "stdout",
     "output_type": "stream",
     "text": [
      "[[1. 0. 0.]\n",
      " [0. 1. 0.]\n",
      " [0. 0. 1.]]\n",
      "[[1.         0.         0.        ]\n",
      " [0.2        1.         0.        ]\n",
      " [0.5        0.72916667 1.        ]]\n",
      "[[1.         0.2        0.5       ]\n",
      " [0.         0.96       0.7       ]\n",
      " [0.         0.         0.23958333]]\n"
     ]
    }
   ],
   "source": [
    "I,L,U = lu(matrix_x)\n",
    "print(I) # this is the identity matrix\n",
    "print(L) # this is the lower \n",
    "print(U) # this is the upper\n",
    "# decomposing the matrix using the lower and the upper "
   ]
  },
  {
   "cell_type": "code",
   "execution_count": 37,
   "id": "804762ee-7008-49f0-8eae-fa6207525a99",
   "metadata": {},
   "outputs": [
    {
     "name": "stdout",
     "output_type": "stream",
     "text": [
      "[[-0.88045091  0.38615039 -0.27512557]\n",
      " [-0.17609018 -0.80507368 -0.566435  ]\n",
      " [-0.44022545 -0.4502713   0.77682515]]\n",
      "[[-1.13578167 -0.70436073 -1.02132305]\n",
      " [ 0.         -1.08806065 -0.90125505]\n",
      " [ 0.          0.          0.18611436]]\n"
     ]
    }
   ],
   "source": [
    "Q,R = np.linalg.qr(matrix_x)\n",
    "print(Q)\n",
    "print(R)"
   ]
  },
  {
   "cell_type": "markdown",
   "id": "3039578b-cfb0-48e7-9a17-5dbf4a82c8d2",
   "metadata": {},
   "source": [
    "## iv) transforming the matrix"
   ]
  },
  {
   "cell_type": "code",
   "execution_count": 52,
   "id": "f0b377b4-1e09-495b-b0f1-93602be99f3a",
   "metadata": {},
   "outputs": [
    {
     "name": "stdout",
     "output_type": "stream",
     "text": [
      "2.2045407685048604\n"
     ]
    }
   ],
   "source": [
    "transformed_matrix_x = np.linalg.norm(matrix_x)\n",
    "print(transformed_matrix_x)"
   ]
  },
  {
   "cell_type": "code",
   "execution_count": null,
   "id": "eabbf2df-526e-4e9d-b31a-03e4a1e054b6",
   "metadata": {},
   "outputs": [],
   "source": []
  }
 ],
 "metadata": {
  "kernelspec": {
   "display_name": "Python 3 (ipykernel)",
   "language": "python",
   "name": "python3"
  },
  "language_info": {
   "codemirror_mode": {
    "name": "ipython",
    "version": 3
   },
   "file_extension": ".py",
   "mimetype": "text/x-python",
   "name": "python",
   "nbconvert_exporter": "python",
   "pygments_lexer": "ipython3",
   "version": "3.13.0"
  }
 },
 "nbformat": 4,
 "nbformat_minor": 5
}
