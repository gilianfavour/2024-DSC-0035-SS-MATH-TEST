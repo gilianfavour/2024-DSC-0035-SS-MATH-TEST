{
 "cells": [
  {
   "cell_type": "markdown",
   "id": "098a3cfa-6308-431b-828a-d8338896f338",
   "metadata": {},
   "source": [
    "# 2024/DSC/0035/SS\n",
    "MATHEMATICAL COMPUTING EXAMS\n",
    "\n",
    "SEMESTER 1"
   ]
  },
  {
   "cell_type": "markdown",
   "id": "9b7c75c5-6d21-4d69-9ad6-c4c2f4e57a77",
   "metadata": {},
   "source": [
    "# QUSESTION 6"
   ]
  },
  {
   "cell_type": "code",
   "execution_count": 34,
   "id": "8df68889-8eff-4762-9845-adf043c03e7a",
   "metadata": {},
   "outputs": [],
   "source": [
    "# importing libraries\n",
    "import numpy as np\n",
    "import seaborn as sns\n",
    "import matplotlib.pyplot as plt"
   ]
  },
  {
   "cell_type": "code",
   "execution_count": 35,
   "id": "c274e513-9908-49a6-8cba-ffc721dc5884",
   "metadata": {},
   "outputs": [],
   "source": [
    "from numpy import random"
   ]
  },
  {
   "cell_type": "markdown",
   "id": "92b9bcb1-32ca-4208-afe6-d9aa089ee66b",
   "metadata": {},
   "source": [
    "## generating the data"
   ]
  },
  {
   "cell_type": "code",
   "execution_count": 36,
   "id": "a2e63db2-af42-4ac5-81a8-bf1a5673e551",
   "metadata": {},
   "outputs": [
    {
     "data": {
      "text/plain": [
       "array([ 3,  6,  3,  0,  4,  7,  7,  7,  3,  4,  3,  4,  5,  4,  2,  5,  3,\n",
       "        8,  3,  5,  5,  5,  4,  3,  5,  4,  6,  4,  5,  6,  9,  6,  2,  7,\n",
       "        7,  6,  5,  4,  4,  6,  4,  7,  4,  9,  4,  7,  5,  5,  4,  4, 10,\n",
       "        2,  6,  0,  9,  5,  8,  7,  4,  2,  8,  6,  4,  2,  5,  7,  6,  5,\n",
       "        2,  6,  4,  6,  8,  6,  5,  5,  4,  9,  4, 10,  4,  8,  3,  7,  4,\n",
       "        5,  4,  6,  7,  0,  4,  2,  2,  3,  6,  6,  5,  4,  6,  4,  3,  1,\n",
       "        2, 11,  7,  5,  4,  5,  5,  5,  4,  7,  3,  5,  8,  5,  4,  4,  4,\n",
       "        3,  5,  7,  9,  6,  7,  6,  7,  6,  6,  2,  4,  5,  3,  6,  5,  4,\n",
       "        8,  9,  9,  1,  2,  5,  3,  3,  5,  5,  5,  4,  1,  8,  6,  7,  3,\n",
       "        6,  6,  4,  3,  5,  6,  2,  3,  3,  8,  4,  5,  3,  5,  5,  8,  5,\n",
       "        5,  7,  6,  3,  0,  2,  7,  3,  3,  1,  4,  4,  5,  7,  3,  4,  2,\n",
       "        8,  9,  7,  6,  3,  5,  3,  5,  5,  2,  8,  7,  7,  3,  6,  8,  5,\n",
       "        2,  8,  4,  2,  2,  5,  6,  6,  9,  8,  2,  3,  9,  4,  5,  4,  6,\n",
       "        5,  5,  6,  5,  4,  1,  5,  7,  5,  2,  4,  5,  6,  3,  3, 10,  5,\n",
       "        3,  5,  3,  4,  5, 11,  1,  5,  2,  5,  5,  4,  3,  5,  4,  9,  3,\n",
       "        4,  4,  5,  7,  9,  9,  6,  5,  7,  6,  9,  2,  7,  3,  9,  5,  3,\n",
       "        1,  6,  5,  4,  3, 12,  6,  2,  3,  6,  2,  5, 10,  3,  9,  4,  5,\n",
       "        7,  7,  4, 10,  7,  4,  5,  5,  5,  5,  2, 10,  5,  4,  4,  5,  5,\n",
       "        5,  4,  5,  7,  5,  3,  6,  5,  7,  3,  4,  5,  9,  3,  3, 11,  4,\n",
       "        0,  8,  8,  5,  4,  3,  8,  7, 10,  7,  5,  7,  4,  5,  5,  4,  5,\n",
       "        7,  3,  8,  7,  9,  5,  5,  4,  6,  6,  6,  7,  6,  2,  8,  3,  1,\n",
       "        1,  6,  6,  4,  5,  2,  6,  5,  7,  4,  6,  7,  4,  7,  2,  4,  6,\n",
       "        7,  6,  7,  4,  8,  7, 10,  7,  8,  4,  3,  4,  7,  4,  6,  4,  8,\n",
       "       10,  7,  3,  8,  2,  4,  6,  8,  6,  3,  7,  3,  2,  2,  2,  5,  7,\n",
       "        6,  8,  6,  3,  5,  1,  5,  5,  4,  3,  3,  5,  2,  3,  6,  2,  7,\n",
       "        6,  7,  5,  5,  6,  4,  7,  2,  3,  5,  3,  2,  8,  4,  3,  7, 12,\n",
       "        3,  6,  2,  3,  7,  7,  2,  6,  2,  9,  1,  5,  4,  5,  1,  5,  3,\n",
       "        3,  5,  4,  5,  6,  2,  3,  4,  4,  5,  2,  1,  5,  3,  8,  6,  4,\n",
       "        5,  7,  9,  9,  2,  6,  9,  5,  7,  8,  6,  5,  5,  4,  7, 12,  5,\n",
       "        8,  2,  2,  3,  6,  3,  4,  7,  6, 10,  8,  3,  7,  3,  6,  4,  9,\n",
       "        6,  2,  7,  1,  4,  4,  5,  6,  5,  6,  4,  7,  3,  7,  4,  4,  4,\n",
       "        4,  7,  4,  5,  7,  5,  5,  9,  1,  4,  4,  7,  8,  9,  5,  4,  6,\n",
       "        4, 10,  9,  9,  6,  8,  5,  5,  5,  1,  5,  5,  6, 11,  9,  4,  4,\n",
       "        5,  3,  6,  7,  4,  5,  4,  9,  4,  3,  6,  5,  7,  5,  7,  5,  4,\n",
       "        5,  9, 10,  8,  4,  7,  4,  5,  1,  6,  4,  4,  6,  3,  8,  3,  3,\n",
       "        6,  6,  5,  2,  6,  8,  2,  3,  1,  2,  3,  6,  5,  3,  3,  4,  7,\n",
       "        5,  6,  8,  7,  4,  5,  3,  4,  4,  6,  4,  4,  3,  5,  1,  3,  4,\n",
       "        2,  0,  6,  5,  6,  8,  4,  0,  8,  3,  6,  3,  3,  4,  7,  6,  7,\n",
       "        4,  4,  7,  2,  4,  3,  2,  6,  7,  8,  4,  4,  2,  7,  4,  8,  3,\n",
       "        4,  4,  4,  4,  9,  5,  3,  1,  2,  8,  3,  8,  4,  4,  4,  3,  4,\n",
       "        4,  5,  2,  3,  6,  3,  1,  3,  8,  2,  5,  5,  7,  8,  1,  5,  4,\n",
       "        4,  5,  3,  6,  4,  4,  2,  3,  4,  2,  7,  8,  5,  5,  6,  7,  9,\n",
       "        8,  2,  3,  6,  2,  7,  6,  2,  5,  4,  1,  5,  5,  5,  6,  6,  6,\n",
       "        3,  5,  2,  6,  6,  8,  7,  7,  9,  2,  4,  4,  7,  7,  3,  7,  7,\n",
       "        6,  2, 10,  7,  3,  3,  6,  3,  6,  4,  5,  6,  3,  3,  6,  7,  5,\n",
       "        4,  5,  7,  7,  6,  2,  7,  4,  4,  6,  8,  7,  5,  2,  4,  2,  5,\n",
       "        4,  4,  2,  3,  2,  2,  3,  7,  8,  5,  5,  7,  5,  6,  5,  7,  5,\n",
       "        2,  8,  5,  5,  7,  3,  5,  2,  2,  1,  2,  4,  7,  6,  7,  4,  1,\n",
       "        6,  9,  3,  3,  5,  5,  5,  2,  4,  2,  5,  3,  5,  3,  5,  4,  8,\n",
       "        4,  4,  7,  6,  7,  2,  5,  4,  5,  3,  2,  2,  8,  7,  3,  3,  7,\n",
       "        4,  4,  9,  4,  7, 11,  1,  6,  8,  4,  3,  3,  4,  6,  3,  2,  1,\n",
       "        4,  4,  2,  5,  4,  7,  1,  9,  1,  7, 10,  9,  6,  6,  5,  2,  2,\n",
       "        3,  5,  4,  3,  6,  6,  7,  2,  5,  5,  9,  4,  7,  6,  6,  5,  8,\n",
       "        9,  4,  5,  6,  4,  4, 11,  3,  6,  1,  8,  4,  9,  7,  4,  3,  5,\n",
       "        8,  2,  5,  5,  3,  4,  4,  5,  7,  3,  5,  6,  5,  6,  9,  2,  7,\n",
       "        4,  3,  6,  4,  6,  7,  5,  5,  8,  7,  7,  6,  5,  4,  2,  7,  3,\n",
       "        4,  1,  2,  3,  4,  9,  3,  3,  7,  5,  5,  4,  8,  6,  8,  3,  8,\n",
       "        6,  3,  8,  5,  6,  7, 11,  2,  6,  3,  4,  1,  2,  3,  4,  4,  5,\n",
       "        4,  2,  2,  7,  4,  2,  1,  3,  4,  6, 11,  3,  5,  3],\n",
       "      dtype=int32)"
      ]
     },
     "execution_count": 36,
     "metadata": {},
     "output_type": "execute_result"
    }
   ],
   "source": [
    "#generating samples\n",
    "customer_arrival_data = random.poisson(lam= 5,size =1000)\n",
    "customer_arrival_data"
   ]
  },
  {
   "cell_type": "markdown",
   "id": "43de8d7f-faf1-4e86-b065-2ad2286e5827",
   "metadata": {},
   "source": [
    "## calculating the mean"
   ]
  },
  {
   "cell_type": "code",
   "execution_count": 37,
   "id": "2da98558-20dd-461e-9751-3d7f51a88d07",
   "metadata": {},
   "outputs": [
    {
     "name": "stdout",
     "output_type": "stream",
     "text": [
      "The mean of the distribution is: 4.971\n"
     ]
    }
   ],
   "source": [
    "# getting the mean\n",
    "mean_customer_arrival_data= customer_arrival_data.mean()\n",
    "print(f'The mean of the distribution is: {mean_customer_arrival_data}')"
   ]
  },
  {
   "cell_type": "markdown",
   "id": "b9cb10d1-1604-441d-9ee5-35b54bb9290c",
   "metadata": {},
   "source": [
    "# calculating the variance"
   ]
  },
  {
   "cell_type": "code",
   "execution_count": 38,
   "id": "649241ef-d0f9-4f96-a26f-8c5116d6baea",
   "metadata": {},
   "outputs": [
    {
     "name": "stdout",
     "output_type": "stream",
     "text": [
      "The Variance of the distribution is: 4.852159\n"
     ]
    }
   ],
   "source": [
    "# getting the variance\n",
    "variance_customer_arrival_data = customer_arrival_data.var()\n",
    "print(f'The Variance of the distribution is: {variance_customer_arrival_data}')"
   ]
  },
  {
   "cell_type": "markdown",
   "id": "245cc369-f3df-48e5-8533-4c639ba9f9cf",
   "metadata": {},
   "source": [
    "## Visualizing the data"
   ]
  },
  {
   "cell_type": "code",
   "execution_count": 39,
   "id": "a6b2e455-4b04-47d3-88a0-c3c318034711",
   "metadata": {},
   "outputs": [
    {
     "data": {
      "image/png": "[encoded data removed]",
      "text/plain": [
       "<Figure size 640x480 with 1 Axes>"
      ]
     },
     "metadata": {},
     "output_type": "display_data"
    }
   ],
   "source": [
    "# visualizing the data\n",
    "customer_arrival_data = random.poisson(lam=5, size= 1000)\n",
    "sns.histplot(customer_arrival_data,  kde= False, color='pink')\n",
    "plt.title('CUSTOMER ARRIVAL DETAILS')\n",
    "plt.xlabel('Arrivals')\n",
    "plt.ylabel('Frequency')\n",
    "plt.show()"
   ]
  },
  {
   "cell_type": "code",
   "execution_count": null,
   "id": "a3294223-1df3-4cca-aedf-bd5f7b92653c",
   "metadata": {},
   "outputs": [],
   "source": []
  }
 ],
 "metadata": {
  "kernelspec": {
   "display_name": "Python 3 (ipykernel)",
   "language": "python",
   "name": "python3"
  },
  "language_info": {
   "codemirror_mode": {
    "name": "ipython",
    "version": 3
   },
   "file_extension": ".py",
   "mimetype": "text/x-python",
   "name": "python",
   "nbconvert_exporter": "python",
   "pygments_lexer": "ipython3",
   "version": "3.13.0"
  }
 },
 "nbformat": 4,
 "nbformat_minor": 5
}
